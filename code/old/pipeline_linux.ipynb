{
 "cells": [
  {
   "cell_type": "code",
   "execution_count": 1,
   "metadata": {},
   "outputs": [],
   "source": [
    "import numpy as np\n",
    "import matplotlib.pyplot as plt\n",
    "import scipy.stats\n",
    "import cv2\n",
    "import pywt\n",
    "from scipy.signal import wiener\n",
    "import skimage as skimg \n",
    "\n",
    "from sklearn.preprocessing import (MinMaxScaler, StandardScaler, Normalizer, FunctionTransformer)\n",
    "from sklearn.model_selection import (train_test_split, StratifiedKFold, ShuffleSplit)\n",
    "from sklearn.ensemble import GradientBoostingClassifier\n",
    "from sklearn.svm import (SVC)\n",
    "\n",
    "from sklearn.base import (BaseEstimator, TransformerMixin)\n",
    "from sklearn.pipeline import (Pipeline, make_pipeline, FeatureUnion, make_union)\n",
    "from sklearn.metrics import (classification_report, accuracy_score)\n",
    "\n",
    "import os\n",
    "from tqdm import tqdm"
   ]
  },
  {
   "cell_type": "markdown",
   "metadata": {},
   "source": [
    "### Constant"
   ]
  },
  {
   "cell_type": "code",
   "execution_count": 2,
   "metadata": {},
   "outputs": [
    {
     "data": {
      "text/plain": [
       "True"
      ]
     },
     "execution_count": 2,
     "metadata": {},
     "output_type": "execute_result"
    }
   ],
   "source": [
    "PATH_PREFIX = '/home/thienn17/Documents/ICL/'\n",
    "os.path.exists(PATH_PREFIX)"
   ]
  },
  {
   "cell_type": "code",
   "execution_count": 3,
   "metadata": {},
   "outputs": [],
   "source": [
    "class CLASS():\n",
    "    FAKE = 0\n",
    "    REAL = 1\n",
    "\n",
    "WT_NAME = 'db5'\n",
    "LEVEL = 3"
   ]
  },
  {
   "cell_type": "markdown",
   "metadata": {},
   "source": [
    "### Load image"
   ]
  },
  {
   "cell_type": "code",
   "execution_count": 79,
   "metadata": {},
   "outputs": [
    {
     "name": "stderr",
     "output_type": "stream",
     "text": [
      "0it [00:00, ?it/s]\n",
      "100%|██████████| 100/100 [00:10<00:00,  9.67it/s]\n",
      "100%|██████████| 100/100 [00:03<00:00, 27.10it/s]\n",
      "100%|██████████| 100/100 [00:05<00:00, 17.32it/s]\n",
      "100%|██████████| 5/5 [00:00<00:00, 18.10it/s]\n",
      "100%|██████████| 100/100 [00:04<00:00, 24.82it/s]\n",
      "100%|██████████| 100/100 [00:03<00:00, 29.66it/s]\n",
      "100%|██████████| 100/100 [00:10<00:00,  9.76it/s]\n",
      "100%|██████████| 100/100 [00:09<00:00, 10.68it/s]\n",
      "100%|██████████| 100/100 [00:14<00:00,  6.74it/s]\n",
      "100%|██████████| 100/100 [00:06<00:00, 16.53it/s]\n",
      "0it [00:00, ?it/s]\n",
      "100%|██████████| 180/180 [00:14<00:00, 12.85it/s]\n",
      "100%|██████████| 180/180 [00:11<00:00, 16.02it/s]\n",
      "100%|██████████| 180/180 [00:12<00:00, 14.04it/s]\n",
      "100%|██████████| 180/180 [00:12<00:00, 14.04it/s]\n",
      "100%|██████████| 180/180 [00:12<00:00, 14.06it/s]\n",
      "100%|██████████| 180/180 [00:11<00:00, 16.19it/s]\n",
      "100%|██████████| 180/180 [00:12<00:00, 14.01it/s]\n",
      "100%|██████████| 180/180 [00:13<00:00, 12.86it/s]\n"
     ]
    }
   ],
   "source": [
    "def load_img():\n",
    "    cls_folders = os.listdir(PATH_PREFIX)\n",
    "    images = []\n",
    "    labels = []\n",
    "\n",
    "    for cls_folder in cls_folders:\n",
    "        if cls_folder == 'dummy':\n",
    "            continue\n",
    "        for abspath, _, files in os.walk(os.path.join(PATH_PREFIX, cls_folder)):\n",
    "            for file in tqdm(files):\n",
    "                # file = os.path.join(abspath, file)\n",
    "                img = cv2.imread(os.path.join(abspath, file), cv2.IMREAD_GRAYSCALE)\n",
    "                # img = cv2.imread(os.path.join(abspath, file))\n",
    "                if img is not None:\n",
    "                    # img = cv2.cvtColor(img, cv2.COLOR_BGR2GRAY)\n",
    "                    images.append(img)\n",
    "                    labels.append(CLASS.REAL if file[0] == 's' else CLASS.FAKE)\n",
    "                    \n",
    "    \n",
    "    return (images, labels)"
   ]
  },
  {
   "cell_type": "markdown",
   "metadata": {},
   "source": [
    "### Feature Transformer"
   ]
  },
  {
   "cell_type": "code",
   "execution_count": 5,
   "metadata": {},
   "outputs": [],
   "source": [
    "class WaveletFeatureTransformer(BaseEstimator, TransformerMixin):\n",
    "    def __init__(self, wtname = 'db5', level = 3):\n",
    "        '''\n",
    "        waveletname = ['db3', 'db4', 'db5', 'sym2', 'bior5.5', etc.]\n",
    "        level: total number of decomposite level\n",
    "        '''\n",
    "        self.wtname = wtname\n",
    "        self.level = level\n",
    "\n",
    "    def fit(self, X, y):\n",
    "        return self\n",
    "    \n",
    "    def transform(self, X):\n",
    "        return self.get_wavelet_features(X)\n",
    "\n",
    "    def get_wavelet_features(self, images):\n",
    "        def wavelet_decrete_transform(img):\n",
    "            wt = pywt.wavedec2(data=img, wavelet=self.wtname, level=self.level)\n",
    "            apprx = wt[0]\n",
    "            details = wt[1:]\n",
    "            return apprx, details\n",
    "\n",
    "        def get_wavelet_characteristics(apprx, details):\n",
    "            def get_mean(img_wt: np.ndarray):\n",
    "                return np.mean(img_wt)\n",
    "\n",
    "            def get_variance(img_wt: np.ndarray):\n",
    "                img_wt = img_wt - mean\n",
    "                img_wt = img_wt**2\n",
    "                return np.mean(img_wt)\n",
    "\n",
    "            def get_skew(img_wt: np.ndarray):\n",
    "                img_wt = img_wt - mean\n",
    "                img_wt = img_wt**3\n",
    "                return np.mean(img_wt)\n",
    "\n",
    "            def get_single_chrc(img_wt):\n",
    "                mean = get_mean(img_wt)\n",
    "                return (mean, get_variance(img_wt), get_skew(img_wt))\n",
    "\n",
    "            mean = 0\n",
    "            chrc = []\n",
    "            for a in get_single_chrc(apprx):\n",
    "                chrc.append(a)\n",
    "            for level_detail in details:\n",
    "                for h in level_detail:\n",
    "                    for a in get_single_chrc(h):\n",
    "                        chrc.append(a)\n",
    "            return np.array(chrc)\n",
    "\n",
    "        wt_features = []\n",
    "        for img in tqdm(images):\n",
    "            img_low_pass, img_high_pass = wavelet_decrete_transform(img)\n",
    "            wt_features.append(get_wavelet_characteristics(img_low_pass, img_high_pass))\n",
    "        \n",
    "        # wt_features = MinMaxScaler().fit_transform(wt_features)\n",
    "        return np.array(wt_features)"
   ]
  },
  {
   "cell_type": "code",
   "execution_count": 6,
   "metadata": {},
   "outputs": [],
   "source": [
    "class MoreWavetletFeatureTfm(BaseEstimator, TransformerMixin):\n",
    "    def __init__(self, wtname = 'db5', level = 3):\n",
    "        '''\n",
    "        waveletname = ['db3', 'db4', 'db5', 'sym2', 'bior5.5', etc.]\n",
    "        level: total number of decomposite level\n",
    "        '''\n",
    "        self.wtname = wtname\n",
    "        self.level = level\n",
    "\n",
    "    def fit(self, X, y):\n",
    "        return self\n",
    "    \n",
    "    def transform(self, X):\n",
    "        wt_features = []\n",
    "        for img in tqdm(X):\n",
    "            img_low_pass, img_high_pass = self.wavelet_decrete_transform(img)\n",
    "            wt_features.append(self.get_feature(img_low_pass, img_high_pass))\n",
    "        return np.array(wt_features)\n",
    "    \n",
    "    def wavelet_decrete_transform(self, img):\n",
    "        wt = pywt.wavedec2(data=img, wavelet=self.wtname, level=self.level)\n",
    "        apprx = wt[0]\n",
    "        details = wt[1:]\n",
    "        return apprx, details\n",
    "\n",
    "    def get_feature(self, apprx, details):\n",
    "        f = []\n",
    "        for a in self.get_single_img_features(apprx):\n",
    "            f.append(a)\n",
    "        for level_detail in details:\n",
    "            for h in level_detail:\n",
    "                for a in self.get_single_img_features(h):\n",
    "                    f.append(a)\n",
    "        return f\n",
    "\n",
    "    def get_single_img_features(self, img):\n",
    "        # img = img.flatten()\n",
    "        # entropy = self.calculate_entropy(img)\n",
    "        # crossings = self.calculate_crossings(img)\n",
    "        statistics = self.calculate_statistics(img)\n",
    "        # return np.concatenate((entropy, crossings, statistics))\n",
    "        return statistics\n",
    "\n",
    "    def calculate_statistics(self, img):\n",
    "        n5 = np.percentile(img, 5)\n",
    "        n25 = np.percentile(img, 25)\n",
    "        n75 = np.percentile(img, 75)\n",
    "        n95 = np.percentile(img, 95)\n",
    "        median = np.percentile(img, 50)\n",
    "        mean = np.mean(img)\n",
    "        std = np.std(img)\n",
    "        var = np.var(img)\n",
    "        skew = np.mean((img - mean)**3)\n",
    "        rms = np.mean(np.sqrt(img**2))\n",
    "        return (n5, n25, n75, n95, median, mean, std, var, skew, rms)\n",
    "\n",
    "    # def calculate_entropy(self, list_values):\n",
    "    #     counter_values = collections.Counter(list_values).most_common()\n",
    "    #     probabilities = [elem[1]/len(list_values) for elem in counter_values]\n",
    "    #     entropy=scipy.stats.entropy(probabilities)\n",
    "    #     return entropy\n",
    "\n",
    "    # def calculate_crossings(self, img):\n",
    "    #     zero_crossing_indices = np.nonzero(np.diff(np.array(img), 0))[0]\n",
    "    #     no_zero_crossings = len(zero_crossing_indices)\n",
    "    #     mean_crossing_indices = np.nonzero(np.diff(np.array(img), np.nanmean(img)))[0]\n",
    "    #     no_mean_crossings = len(mean_crossing_indices)\n",
    "    #     return [no_zero_crossings, no_mean_crossings]"
   ]
  },
  {
   "cell_type": "code",
   "execution_count": 7,
   "metadata": {},
   "outputs": [],
   "source": [
    "class NoiseFeatureTransformer(BaseEstimator, TransformerMixin):\n",
    "    def __init__(self, num_points = 8, radius = 1, wiener_size = 5):\n",
    "        self.num_points = num_points\n",
    "        self.radius = radius\n",
    "        self.wiener_size = wiener_size\n",
    "        # self.ravel = 0\n",
    "\n",
    "    def fit(self, X, y):\n",
    "        return self\n",
    "    \n",
    "    def transform(self, X):\n",
    "        return self.get_lbp_features(X)\n",
    "\n",
    "    def get_lbp_features(self, images):\n",
    "        def local_binary_pattern(img):\n",
    "            noise = img - wiener(img, self.wiener_size)\n",
    "            lbp = skimg.feature.local_binary_pattern(\n",
    "                noise, self.num_points, self.radius, method=\"nri_uniform\").ravel()\n",
    "            # (hist, bins) = np.histogram(lbp.ravel(), bins=59)\n",
    "            bins, hist = np.unique(lbp.ravel(), return_counts=True)\n",
    "            \n",
    "            # hist = hist / len(lbp)\n",
    "            return hist\n",
    "\n",
    "        lbp_features = []\n",
    "        for img in tqdm(images):\n",
    "            # img = cv2.resize(img, LBP_IMG_SIZE)\n",
    "            lbp_features.append(local_binary_pattern(img))\n",
    "        return lbp_features"
   ]
  },
  {
   "cell_type": "code",
   "execution_count": 8,
   "metadata": {},
   "outputs": [],
   "source": [
    "def percentage_normalize(X):\n",
    "    X_normalized = []\n",
    "    for x in X:\n",
    "        x = x / np.sum(x)\n",
    "        X_normalized.append(x)\n",
    "    return np.array(X_normalized)\n",
    "\n",
    "per_normalizer = FunctionTransformer(percentage_normalize)"
   ]
  },
  {
   "cell_type": "code",
   "execution_count": 9,
   "metadata": {},
   "outputs": [],
   "source": [
    "def get_wt_feature(X):\n",
    "    return X[:, :30]\n",
    "\n",
    "def get_n_feature(X):\n",
    "    return X[:, 30:]"
   ]
  },
  {
   "cell_type": "markdown",
   "metadata": {},
   "source": [
    "# Train"
   ]
  },
  {
   "cell_type": "code",
   "execution_count": 10,
   "metadata": {},
   "outputs": [],
   "source": [
    "import warnings\n",
    "warnings.filterwarnings(\"ignore\")"
   ]
  },
  {
   "cell_type": "markdown",
   "metadata": {},
   "source": [
    "#### Load feature"
   ]
  },
  {
   "cell_type": "code",
   "execution_count": 11,
   "metadata": {},
   "outputs": [
    {
     "data": {
      "text/plain": [
       "True"
      ]
     },
     "execution_count": 11,
     "metadata": {},
     "output_type": "execute_result"
    }
   ],
   "source": [
    "PATH_DUMP = './object dump/no union/'\n",
    "# PATH_DUMP = 'D:/About me/intern/2022-05-09-FPT High order wavelet/code/recaptured image - wavelet (sun2017)/object dump'\n",
    "os.path.exists(PATH_DUMP)"
   ]
  },
  {
   "cell_type": "code",
   "execution_count": 68,
   "metadata": {},
   "outputs": [],
   "source": [
    "Af = np.concatenate((\n",
    "        np.load(os.path.join(PATH_DUMP, 'DS05_full_wt.npy')),\n",
    "        np.load(os.path.join(PATH_DUMP, 'DS05_full_n.npy'))),\n",
    "        axis=1)\n",
    "b = np.load(os.path.join(PATH_DUMP, 'DS05_full_label.npy'))"
   ]
  },
  {
   "cell_type": "code",
   "execution_count": 69,
   "metadata": {},
   "outputs": [
    {
     "name": "stdout",
     "output_type": "stream",
     "text": [
      "(2345, 89) (2345,)\n"
     ]
    }
   ],
   "source": [
    "print(Af.shape, b.shape)"
   ]
  },
  {
   "cell_type": "markdown",
   "metadata": {},
   "source": [
    "##### Load & concat Cable and DS05 small"
   ]
  },
  {
   "cell_type": "code",
   "execution_count": 97,
   "metadata": {},
   "outputs": [
    {
     "data": {
      "text/plain": [
       "(2345,)"
      ]
     },
     "execution_count": 97,
     "metadata": {},
     "output_type": "execute_result"
    }
   ],
   "source": [
    "b_ds = np.ones(Af.shape[0])*2\n",
    "b_ds.shape"
   ]
  },
  {
   "cell_type": "code",
   "execution_count": 98,
   "metadata": {},
   "outputs": [
    {
     "name": "stdout",
     "output_type": "stream",
     "text": [
      "(492, 89) (492,)\n",
      "(150, 89) (150,)\n"
     ]
    }
   ],
   "source": [
    "if os.path.exists(PATH_DUMP) is True:\n",
    "    A_c = np.concatenate((np.load(os.path.join(PATH_DUMP, 'Cable_wt.npy')),\n",
    "                          np.load(os.path.join(PATH_DUMP, 'Cable_n.npy'))),\n",
    "                         axis=1)\n",
    "    b_c = np.load(os.path.join(PATH_DUMP, 'Cable_label.npy'))\n",
    "\n",
    "    A_d = np.concatenate((np.load(os.path.join(PATH_DUMP, 'DS05_small_wt.npy')),\n",
    "                          np.load(os.path.join(PATH_DUMP, 'DS05_small_n.npy'))),\n",
    "                         axis=1)\n",
    "    b_d = np.load(os.path.join(PATH_DUMP, 'DS05_small_label.npy'))\n",
    "\n",
    "    print(A_c.shape, b_c.shape)\n",
    "    print(A_d.shape, b_d.shape)\n",
    "\n",
    "    Af = np.concatenate((Af, A_c, A_d), axis=0)\n",
    "    b = np.concatenate((b, b_c, b_d), axis=0)\n",
    "    b_ds = np.concatenate((b_ds,\n",
    "                           np.zeros(A_c.shape[0]),\n",
    "                           np.ones(A_d.shape[0])),\n",
    "                           axis=0)"
   ]
  },
  {
   "cell_type": "code",
   "execution_count": 99,
   "metadata": {},
   "outputs": [
    {
     "name": "stdout",
     "output_type": "stream",
     "text": [
      "(2987, 89) (2987,) (2987,)\n"
     ]
    }
   ],
   "source": [
    "print(Af.shape, b.shape, b_ds.shape)"
   ]
  },
  {
   "cell_type": "markdown",
   "metadata": {},
   "source": [
    "### Fit"
   ]
  },
  {
   "cell_type": "markdown",
   "metadata": {},
   "source": [
    "#### Pipeline"
   ]
  },
  {
   "cell_type": "code",
   "execution_count": 17,
   "metadata": {},
   "outputs": [],
   "source": [
    "# wt_transform = make_pipeline(FunctionTransformer(get_wt_feature), StandardScaler())\n",
    "# noise_transform = make_pipeline(FunctionTransformer(get_n_feature), FunctionTransformer(percentage_normalize))\n",
    "# feature_transform = make_union(wt_transform, noise_transform)\n",
    "\n",
    "wt_transform = Pipeline(steps=[\n",
    "    ('slice_wt', FunctionTransformer(get_wt_feature)),\n",
    "    ('mm_scaler', MinMaxScaler())\n",
    "])\n",
    "noise_transform = Pipeline(steps=[\n",
    "    ('slice_noise', FunctionTransformer(get_n_feature)),\n",
    "    ('std_scaler', FunctionTransformer(percentage_normalize))\n",
    "])"
   ]
  },
  {
   "cell_type": "code",
   "execution_count": 90,
   "metadata": {},
   "outputs": [],
   "source": [
    "feature_transform = [\n",
    "    make_union(wt_transform, noise_transform),\n",
    "    make_union(FunctionTransformer(get_wt_feature), FunctionTransformer(get_n_feature)),  # wrong <= dependent on image size\n",
    "]"
   ]
  },
  {
   "cell_type": "code",
   "execution_count": 91,
   "metadata": {},
   "outputs": [],
   "source": [
    "i = 0\n",
    "estimators = [\n",
    "    make_pipeline(feature_transform[i], StandardScaler(), SVC()),  # 97.7 (i=0)\n",
    "    make_pipeline(feature_transform[i], MinMaxScaler(), SVC()),  # 97\n",
    "    make_pipeline(feature_transform[i], StandardScaler(), GradientBoostingClassifier()),  # 98.2 (i=0)\n",
    "    make_pipeline(feature_transform[i], MinMaxScaler(), GradientBoostingClassifier()),  # 98.2\n",
    "]"
   ]
  },
  {
   "cell_type": "markdown",
   "metadata": {},
   "source": [
    "#### Single fit"
   ]
  },
  {
   "cell_type": "code",
   "execution_count": 21,
   "metadata": {},
   "outputs": [],
   "source": [
    "# Af_train, Af_test, b_train, b_test = train_test_split(Af, b,\n",
    "#                                                       train_size=0.7,\n",
    "#                                                       random_state=12,\n",
    "#                                                       stratify=b)"
   ]
  },
  {
   "cell_type": "code",
   "execution_count": 107,
   "metadata": {},
   "outputs": [],
   "source": [
    "rs = ShuffleSplit(n_splits=1, test_size=0.3, random_state=42)\n",
    "for train_idx, test_idx in rs.split(Af):\n",
    "    Af_train = Af[train_idx]\n",
    "    Af_test = Af[test_idx]\n",
    "    b_train = b[train_idx]\n",
    "    b_test = b[test_idx]\n",
    "    b_ds_test = b_ds[test_idx]"
   ]
  },
  {
   "cell_type": "code",
   "execution_count": 108,
   "metadata": {},
   "outputs": [
    {
     "data": {
      "text/plain": [
       "(2090, 89)"
      ]
     },
     "execution_count": 108,
     "metadata": {},
     "output_type": "execute_result"
    }
   ],
   "source": [
    "Af_train.shape"
   ]
  },
  {
   "cell_type": "code",
   "execution_count": 109,
   "metadata": {},
   "outputs": [
    {
     "data": {
      "text/html": [
       "<style>#sk-container-id-9 {color: black;background-color: white;}#sk-container-id-9 pre{padding: 0;}#sk-container-id-9 div.sk-toggleable {background-color: white;}#sk-container-id-9 label.sk-toggleable__label {cursor: pointer;display: block;width: 100%;margin-bottom: 0;padding: 0.3em;box-sizing: border-box;text-align: center;}#sk-container-id-9 label.sk-toggleable__label-arrow:before {content: \"▸\";float: left;margin-right: 0.25em;color: #696969;}#sk-container-id-9 label.sk-toggleable__label-arrow:hover:before {color: black;}#sk-container-id-9 div.sk-estimator:hover label.sk-toggleable__label-arrow:before {color: black;}#sk-container-id-9 div.sk-toggleable__content {max-height: 0;max-width: 0;overflow: hidden;text-align: left;background-color: #f0f8ff;}#sk-container-id-9 div.sk-toggleable__content pre {margin: 0.2em;color: black;border-radius: 0.25em;background-color: #f0f8ff;}#sk-container-id-9 input.sk-toggleable__control:checked~div.sk-toggleable__content {max-height: 200px;max-width: 100%;overflow: auto;}#sk-container-id-9 input.sk-toggleable__control:checked~label.sk-toggleable__label-arrow:before {content: \"▾\";}#sk-container-id-9 div.sk-estimator input.sk-toggleable__control:checked~label.sk-toggleable__label {background-color: #d4ebff;}#sk-container-id-9 div.sk-label input.sk-toggleable__control:checked~label.sk-toggleable__label {background-color: #d4ebff;}#sk-container-id-9 input.sk-hidden--visually {border: 0;clip: rect(1px 1px 1px 1px);clip: rect(1px, 1px, 1px, 1px);height: 1px;margin: -1px;overflow: hidden;padding: 0;position: absolute;width: 1px;}#sk-container-id-9 div.sk-estimator {font-family: monospace;background-color: #f0f8ff;border: 1px dotted black;border-radius: 0.25em;box-sizing: border-box;margin-bottom: 0.5em;}#sk-container-id-9 div.sk-estimator:hover {background-color: #d4ebff;}#sk-container-id-9 div.sk-parallel-item::after {content: \"\";width: 100%;border-bottom: 1px solid gray;flex-grow: 1;}#sk-container-id-9 div.sk-label:hover label.sk-toggleable__label {background-color: #d4ebff;}#sk-container-id-9 div.sk-serial::before {content: \"\";position: absolute;border-left: 1px solid gray;box-sizing: border-box;top: 0;bottom: 0;left: 50%;z-index: 0;}#sk-container-id-9 div.sk-serial {display: flex;flex-direction: column;align-items: center;background-color: white;padding-right: 0.2em;padding-left: 0.2em;position: relative;}#sk-container-id-9 div.sk-item {position: relative;z-index: 1;}#sk-container-id-9 div.sk-parallel {display: flex;align-items: stretch;justify-content: center;background-color: white;position: relative;}#sk-container-id-9 div.sk-item::before, #sk-container-id-9 div.sk-parallel-item::before {content: \"\";position: absolute;border-left: 1px solid gray;box-sizing: border-box;top: 0;bottom: 0;left: 50%;z-index: -1;}#sk-container-id-9 div.sk-parallel-item {display: flex;flex-direction: column;z-index: 1;position: relative;background-color: white;}#sk-container-id-9 div.sk-parallel-item:first-child::after {align-self: flex-end;width: 50%;}#sk-container-id-9 div.sk-parallel-item:last-child::after {align-self: flex-start;width: 50%;}#sk-container-id-9 div.sk-parallel-item:only-child::after {width: 0;}#sk-container-id-9 div.sk-dashed-wrapped {border: 1px dashed gray;margin: 0 0.4em 0.5em 0.4em;box-sizing: border-box;padding-bottom: 0.4em;background-color: white;}#sk-container-id-9 div.sk-label label {font-family: monospace;font-weight: bold;display: inline-block;line-height: 1.2em;}#sk-container-id-9 div.sk-label-container {text-align: center;}#sk-container-id-9 div.sk-container {/* jupyter's `normalize.less` sets `[hidden] { display: none; }` but bootstrap.min.css set `[hidden] { display: none !important; }` so we also need the `!important` here to be able to override the default hidden behavior on the sphinx rendered scikit-learn.org. See: https://github.com/scikit-learn/scikit-learn/issues/21755 */display: inline-block !important;position: relative;}#sk-container-id-9 div.sk-text-repr-fallback {display: none;}</style><div id=\"sk-container-id-9\" class=\"sk-top-container\"><div class=\"sk-text-repr-fallback\"><pre>Pipeline(steps=[(&#x27;featureunion&#x27;,\n",
       "                 FeatureUnion(transformer_list=[(&#x27;pipeline-1&#x27;,\n",
       "                                                 Pipeline(steps=[(&#x27;slice_wt&#x27;,\n",
       "                                                                  FunctionTransformer(func=&lt;function get_wt_feature at 0x7f61cac1caf0&gt;)),\n",
       "                                                                 (&#x27;mm_scaler&#x27;,\n",
       "                                                                  MinMaxScaler())])),\n",
       "                                                (&#x27;pipeline-2&#x27;,\n",
       "                                                 Pipeline(steps=[(&#x27;slice_noise&#x27;,\n",
       "                                                                  FunctionTransformer(func=&lt;function get_n_feature at 0x7f61cac1cb80&gt;)),\n",
       "                                                                 (&#x27;std_scaler&#x27;,\n",
       "                                                                  FunctionTransformer(func=&lt;function percentage_normalize at 0x7f61cac0bb80&gt;))]))])),\n",
       "                (&#x27;standardscaler&#x27;, StandardScaler()), (&#x27;svc&#x27;, SVC())])</pre><b>In a Jupyter environment, please rerun this cell to show the HTML representation or trust the notebook. <br />On GitHub, the HTML representation is unable to render, please try loading this page with nbviewer.org.</b></div><div class=\"sk-container\" hidden><div class=\"sk-item sk-dashed-wrapped\"><div class=\"sk-label-container\"><div class=\"sk-label sk-toggleable\"><input class=\"sk-toggleable__control sk-hidden--visually\" id=\"sk-estimator-id-53\" type=\"checkbox\" ><label for=\"sk-estimator-id-53\" class=\"sk-toggleable__label sk-toggleable__label-arrow\">Pipeline</label><div class=\"sk-toggleable__content\"><pre>Pipeline(steps=[(&#x27;featureunion&#x27;,\n",
       "                 FeatureUnion(transformer_list=[(&#x27;pipeline-1&#x27;,\n",
       "                                                 Pipeline(steps=[(&#x27;slice_wt&#x27;,\n",
       "                                                                  FunctionTransformer(func=&lt;function get_wt_feature at 0x7f61cac1caf0&gt;)),\n",
       "                                                                 (&#x27;mm_scaler&#x27;,\n",
       "                                                                  MinMaxScaler())])),\n",
       "                                                (&#x27;pipeline-2&#x27;,\n",
       "                                                 Pipeline(steps=[(&#x27;slice_noise&#x27;,\n",
       "                                                                  FunctionTransformer(func=&lt;function get_n_feature at 0x7f61cac1cb80&gt;)),\n",
       "                                                                 (&#x27;std_scaler&#x27;,\n",
       "                                                                  FunctionTransformer(func=&lt;function percentage_normalize at 0x7f61cac0bb80&gt;))]))])),\n",
       "                (&#x27;standardscaler&#x27;, StandardScaler()), (&#x27;svc&#x27;, SVC())])</pre></div></div></div><div class=\"sk-serial\"><div class=\"sk-item sk-dashed-wrapped\"><div class=\"sk-label-container\"><div class=\"sk-label sk-toggleable\"><input class=\"sk-toggleable__control sk-hidden--visually\" id=\"sk-estimator-id-54\" type=\"checkbox\" ><label for=\"sk-estimator-id-54\" class=\"sk-toggleable__label sk-toggleable__label-arrow\">featureunion: FeatureUnion</label><div class=\"sk-toggleable__content\"><pre>FeatureUnion(transformer_list=[(&#x27;pipeline-1&#x27;,\n",
       "                                Pipeline(steps=[(&#x27;slice_wt&#x27;,\n",
       "                                                 FunctionTransformer(func=&lt;function get_wt_feature at 0x7f61cac1caf0&gt;)),\n",
       "                                                (&#x27;mm_scaler&#x27;,\n",
       "                                                 MinMaxScaler())])),\n",
       "                               (&#x27;pipeline-2&#x27;,\n",
       "                                Pipeline(steps=[(&#x27;slice_noise&#x27;,\n",
       "                                                 FunctionTransformer(func=&lt;function get_n_feature at 0x7f61cac1cb80&gt;)),\n",
       "                                                (&#x27;std_scaler&#x27;,\n",
       "                                                 FunctionTransformer(func=&lt;function percentage_normalize at 0x7f61cac0bb80&gt;))]))])</pre></div></div></div><div class=\"sk-parallel\"><div class=\"sk-parallel-item\"><div class=\"sk-item\"><div class=\"sk-label-container\"><div class=\"sk-label sk-toggleable\"><label>pipeline-1</label></div></div><div class=\"sk-serial\"><div class=\"sk-item\"><div class=\"sk-serial\"><div class=\"sk-item\"><div class=\"sk-estimator sk-toggleable\"><input class=\"sk-toggleable__control sk-hidden--visually\" id=\"sk-estimator-id-55\" type=\"checkbox\" ><label for=\"sk-estimator-id-55\" class=\"sk-toggleable__label sk-toggleable__label-arrow\">FunctionTransformer</label><div class=\"sk-toggleable__content\"><pre>FunctionTransformer(func=&lt;function get_wt_feature at 0x7f61cac1caf0&gt;)</pre></div></div></div><div class=\"sk-item\"><div class=\"sk-estimator sk-toggleable\"><input class=\"sk-toggleable__control sk-hidden--visually\" id=\"sk-estimator-id-56\" type=\"checkbox\" ><label for=\"sk-estimator-id-56\" class=\"sk-toggleable__label sk-toggleable__label-arrow\">MinMaxScaler</label><div class=\"sk-toggleable__content\"><pre>MinMaxScaler()</pre></div></div></div></div></div></div></div></div><div class=\"sk-parallel-item\"><div class=\"sk-item\"><div class=\"sk-label-container\"><div class=\"sk-label sk-toggleable\"><label>pipeline-2</label></div></div><div class=\"sk-serial\"><div class=\"sk-item\"><div class=\"sk-serial\"><div class=\"sk-item\"><div class=\"sk-estimator sk-toggleable\"><input class=\"sk-toggleable__control sk-hidden--visually\" id=\"sk-estimator-id-57\" type=\"checkbox\" ><label for=\"sk-estimator-id-57\" class=\"sk-toggleable__label sk-toggleable__label-arrow\">FunctionTransformer</label><div class=\"sk-toggleable__content\"><pre>FunctionTransformer(func=&lt;function get_n_feature at 0x7f61cac1cb80&gt;)</pre></div></div></div><div class=\"sk-item\"><div class=\"sk-estimator sk-toggleable\"><input class=\"sk-toggleable__control sk-hidden--visually\" id=\"sk-estimator-id-58\" type=\"checkbox\" ><label for=\"sk-estimator-id-58\" class=\"sk-toggleable__label sk-toggleable__label-arrow\">FunctionTransformer</label><div class=\"sk-toggleable__content\"><pre>FunctionTransformer(func=&lt;function percentage_normalize at 0x7f61cac0bb80&gt;)</pre></div></div></div></div></div></div></div></div></div></div><div class=\"sk-item\"><div class=\"sk-estimator sk-toggleable\"><input class=\"sk-toggleable__control sk-hidden--visually\" id=\"sk-estimator-id-59\" type=\"checkbox\" ><label for=\"sk-estimator-id-59\" class=\"sk-toggleable__label sk-toggleable__label-arrow\">StandardScaler</label><div class=\"sk-toggleable__content\"><pre>StandardScaler()</pre></div></div></div><div class=\"sk-item\"><div class=\"sk-estimator sk-toggleable\"><input class=\"sk-toggleable__control sk-hidden--visually\" id=\"sk-estimator-id-60\" type=\"checkbox\" ><label for=\"sk-estimator-id-60\" class=\"sk-toggleable__label sk-toggleable__label-arrow\">SVC</label><div class=\"sk-toggleable__content\"><pre>SVC()</pre></div></div></div></div></div></div></div>"
      ],
      "text/plain": [
       "Pipeline(steps=[('featureunion',\n",
       "                 FeatureUnion(transformer_list=[('pipeline-1',\n",
       "                                                 Pipeline(steps=[('slice_wt',\n",
       "                                                                  FunctionTransformer(func=<function get_wt_feature at 0x7f61cac1caf0>)),\n",
       "                                                                 ('mm_scaler',\n",
       "                                                                  MinMaxScaler())])),\n",
       "                                                ('pipeline-2',\n",
       "                                                 Pipeline(steps=[('slice_noise',\n",
       "                                                                  FunctionTransformer(func=<function get_n_feature at 0x7f61cac1cb80>)),\n",
       "                                                                 ('std_scaler',\n",
       "                                                                  FunctionTransformer(func=<function percentage_normalize at 0x7f61cac0bb80>))]))])),\n",
       "                ('standardscaler', StandardScaler()), ('svc', SVC())])"
      ]
     },
     "execution_count": 109,
     "metadata": {},
     "output_type": "execute_result"
    }
   ],
   "source": [
    "estimator = estimators[0].fit(Af_train, b_train)\n",
    "estimator"
   ]
  },
  {
   "cell_type": "code",
   "execution_count": 110,
   "metadata": {},
   "outputs": [
    {
     "name": "stdout",
     "output_type": "stream",
     "text": [
      "              precision    recall  f1-score   support\n",
      "\n",
      "           0       0.96      0.99      0.97       527\n",
      "           1       0.99      0.94      0.96       370\n",
      "\n",
      "    accuracy                           0.97       897\n",
      "   macro avg       0.97      0.96      0.97       897\n",
      "weighted avg       0.97      0.97      0.97       897\n",
      "\n"
     ]
    }
   ],
   "source": [
    "b_pred = estimator.predict(Af_test)\n",
    "print(classification_report(b_test, b_pred))"
   ]
  },
  {
   "cell_type": "code",
   "execution_count": 111,
   "metadata": {},
   "outputs": [
    {
     "name": "stdout",
     "output_type": "stream",
     "text": [
      "Count incorrect pred with ground truth class (fake, real):\n",
      "5 23\n",
      "Count incorrect predict with dataset (Cable, DS05_small, DS05_full):\n",
      "0 8 20\n"
     ]
    }
   ],
   "source": [
    "acc_list = (b_pred!=b_test)\n",
    "print('Count incorrect pred with ground truth class (fake, real):')\n",
    "print(np.count_nonzero((acc_list) & (b_test==0)),\n",
    "      np.count_nonzero((acc_list) & (b_test==1)))\n",
    "\n",
    "print('Count incorrect predict with dataset (Cable, DS05_small, DS05_full):')\n",
    "print(np.count_nonzero((acc_list) & (b_ds_test==0)),\n",
    "      np.count_nonzero((acc_list) & (b_ds_test==1)),\n",
    "      np.count_nonzero((acc_list) & (b_ds_test==2)),)"
   ]
  },
  {
   "cell_type": "markdown",
   "metadata": {},
   "source": [
    "#### KFold"
   ]
  },
  {
   "cell_type": "code",
   "execution_count": 112,
   "metadata": {},
   "outputs": [],
   "source": [
    "def kfold(_estimator):\n",
    "    # print(_estimator)\n",
    "    \n",
    "    kf = StratifiedKFold(n_splits=5, shuffle=True, random_state=42)\n",
    "    score = 0\n",
    "    for k, (i_train, i_test) in enumerate(kf.split(Af, b)):\n",
    "        model = _estimator.fit(Af[i_train], b[i_train])\n",
    "\n",
    "        y_pred = model.predict(Af[i_test])\n",
    "        acc = accuracy_score(y_true=b[i_test], y_pred=y_pred)\n",
    "        score += acc\n",
    "\n",
    "        print(\"[Fold {}] Acc: {:.3f}\".format(k+1, acc))\n",
    "        # print(classification_report(y_true=b[i_test], y_pred=y_pred))\n",
    "        # print(\"Acc: {:.3f}\".format(acc))\n",
    "\n",
    "    print(\"Mean acc: {:.3f}\\n\".format(score/kf.get_n_splits()))"
   ]
  },
  {
   "cell_type": "code",
   "execution_count": 113,
   "metadata": {},
   "outputs": [
    {
     "name": "stdout",
     "output_type": "stream",
     "text": [
      "[Fold 1] Acc: 0.952\n",
      "[Fold 2] Acc: 0.970\n",
      "[Fold 3] Acc: 0.977\n",
      "[Fold 4] Acc: 0.963\n",
      "[Fold 5] Acc: 0.975\n",
      "Mean acc: 0.967\n",
      "\n",
      "[Fold 1] Acc: 0.933\n",
      "[Fold 2] Acc: 0.938\n",
      "[Fold 3] Acc: 0.936\n",
      "[Fold 4] Acc: 0.938\n",
      "[Fold 5] Acc: 0.946\n",
      "Mean acc: 0.938\n",
      "\n",
      "[Fold 1] Acc: 0.957\n",
      "[Fold 2] Acc: 0.963\n",
      "[Fold 3] Acc: 0.980\n",
      "[Fold 4] Acc: 0.968\n",
      "[Fold 5] Acc: 0.975\n",
      "Mean acc: 0.969\n",
      "\n",
      "[Fold 1] Acc: 0.957\n",
      "[Fold 2] Acc: 0.965\n",
      "[Fold 3] Acc: 0.980\n",
      "[Fold 4] Acc: 0.968\n",
      "[Fold 5] Acc: 0.975\n",
      "Mean acc: 0.969\n",
      "\n"
     ]
    }
   ],
   "source": [
    "for e in estimators:\n",
    "    kfold(e)"
   ]
  },
  {
   "cell_type": "markdown",
   "metadata": {},
   "source": [
    "#### GroupFold"
   ]
  },
  {
   "cell_type": "code",
   "execution_count": 44,
   "metadata": {},
   "outputs": [],
   "source": [
    "from sklearn.model_selection import (LeaveOneGroupOut, cross_val_score)"
   ]
  },
  {
   "cell_type": "code",
   "execution_count": 53,
   "metadata": {},
   "outputs": [],
   "source": [
    "def groupfold(_estimator):\n",
    "    # print(_estimator)\n",
    "    \n",
    "    logo = LeaveOneGroupOut()\n",
    "    score = 0\n",
    "    for k, (i_train, i_test) in enumerate(logo.split(Af, b, b_ds)):\n",
    "        model = _estimator.fit(Af[i_train], b[i_train])\n",
    "\n",
    "        y_pred = model.predict(Af[i_test])\n",
    "        acc = accuracy_score(y_true=b[i_test], y_pred=y_pred)\n",
    "        score += acc\n",
    "\n",
    "        print(\"[Test dataset {} - len {}] Acc: {:.3f}\".format(k, len(i_test), acc))\n",
    "        # print(classification_report(y_true=b[i_test], y_pred=y_pred))\n",
    "        # print(\"Acc: {:.3f}\".format(acc))\n",
    "\n",
    "    print(\"Mean acc: {:.3f}\\n\".format(score/5))"
   ]
  },
  {
   "cell_type": "code",
   "execution_count": 54,
   "metadata": {},
   "outputs": [
    {
     "name": "stdout",
     "output_type": "stream",
     "text": [
      "[Test dataset 0 - len 492] Acc: 0.467\n",
      "[Test dataset 1 - len 150] Acc: 0.620\n",
      "[Test dataset 2 - len 2345] Acc: 0.356\n",
      "Mean acc: 0.289\n",
      "\n",
      "[Test dataset 0 - len 492] Acc: 0.278\n",
      "[Test dataset 1 - len 150] Acc: 0.620\n",
      "[Test dataset 2 - len 2345] Acc: 0.448\n",
      "Mean acc: 0.269\n",
      "\n",
      "[Test dataset 0 - len 492] Acc: 0.154\n",
      "[Test dataset 1 - len 150] Acc: 0.527\n",
      "[Test dataset 2 - len 2345] Acc: 0.110\n",
      "Mean acc: 0.158\n",
      "\n",
      "[Test dataset 0 - len 492] Acc: 0.165\n",
      "[Test dataset 1 - len 150] Acc: 0.527\n",
      "[Test dataset 2 - len 2345] Acc: 0.110\n",
      "Mean acc: 0.160\n",
      "\n"
     ]
    }
   ],
   "source": [
    "for e in estimators:\n",
    "    groupfold(e)"
   ]
  },
  {
   "cell_type": "code",
   "execution_count": null,
   "metadata": {},
   "outputs": [],
   "source": [
    "for e in estimators:\n",
    "    logo = LeaveOneGroupOut()\n",
    "    print(e)\n",
    "    print(cross_val_score(e, Af, b, groups=b_ds, cv=logo.split(Af, b, b_ds)))"
   ]
  },
  {
   "cell_type": "markdown",
   "metadata": {},
   "source": [
    "### Visualize"
   ]
  },
  {
   "cell_type": "code",
   "execution_count": 32,
   "metadata": {},
   "outputs": [],
   "source": [
    "import umap\n",
    "import seaborn as sns"
   ]
  },
  {
   "cell_type": "code",
   "execution_count": 33,
   "metadata": {},
   "outputs": [
    {
     "data": {
      "text/html": [
       "<svg  width=\"550\" height=\"55\"><rect x=\"0\" y=\"0\" width=\"55\" height=\"55\" style=\"fill:#1f77b4;stroke-width:2;stroke:rgb(255,255,255)\"/><rect x=\"55\" y=\"0\" width=\"55\" height=\"55\" style=\"fill:#ff7f0e;stroke-width:2;stroke:rgb(255,255,255)\"/><rect x=\"110\" y=\"0\" width=\"55\" height=\"55\" style=\"fill:#2ca02c;stroke-width:2;stroke:rgb(255,255,255)\"/><rect x=\"165\" y=\"0\" width=\"55\" height=\"55\" style=\"fill:#d62728;stroke-width:2;stroke:rgb(255,255,255)\"/><rect x=\"220\" y=\"0\" width=\"55\" height=\"55\" style=\"fill:#9467bd;stroke-width:2;stroke:rgb(255,255,255)\"/><rect x=\"275\" y=\"0\" width=\"55\" height=\"55\" style=\"fill:#8c564b;stroke-width:2;stroke:rgb(255,255,255)\"/><rect x=\"330\" y=\"0\" width=\"55\" height=\"55\" style=\"fill:#e377c2;stroke-width:2;stroke:rgb(255,255,255)\"/><rect x=\"385\" y=\"0\" width=\"55\" height=\"55\" style=\"fill:#7f7f7f;stroke-width:2;stroke:rgb(255,255,255)\"/><rect x=\"440\" y=\"0\" width=\"55\" height=\"55\" style=\"fill:#bcbd22;stroke-width:2;stroke:rgb(255,255,255)\"/><rect x=\"495\" y=\"0\" width=\"55\" height=\"55\" style=\"fill:#17becf;stroke-width:2;stroke:rgb(255,255,255)\"/></svg>"
      ],
      "text/plain": [
       "[(0.12156862745098039, 0.4666666666666667, 0.7058823529411765),\n",
       " (1.0, 0.4980392156862745, 0.054901960784313725),\n",
       " (0.17254901960784313, 0.6274509803921569, 0.17254901960784313),\n",
       " (0.8392156862745098, 0.15294117647058825, 0.1568627450980392),\n",
       " (0.5803921568627451, 0.403921568627451, 0.7411764705882353),\n",
       " (0.5490196078431373, 0.33725490196078434, 0.29411764705882354),\n",
       " (0.8901960784313725, 0.4666666666666667, 0.7607843137254902),\n",
       " (0.4980392156862745, 0.4980392156862745, 0.4980392156862745),\n",
       " (0.7372549019607844, 0.7411764705882353, 0.13333333333333333),\n",
       " (0.09019607843137255, 0.7450980392156863, 0.8117647058823529)]"
      ]
     },
     "execution_count": 33,
     "metadata": {},
     "output_type": "execute_result"
    }
   ],
   "source": [
    "sns_cmap = sns.color_palette()\n",
    "color_mapper = {\n",
    "    0 : sns_cmap[9],  # fake\n",
    "    1 : sns_cmap[6],  # real\n",
    "    2 : sns_cmap[2],  # f\n",
    "    3 : sns_cmap[3],  # r\n",
    "    4 : sns_cmap[0],  # f\n",
    "    5 : sns_cmap[1],  # r\n",
    "}\n",
    "sns.color_palette()"
   ]
  },
  {
   "cell_type": "code",
   "execution_count": 34,
   "metadata": {},
   "outputs": [],
   "source": [
    "reducer = umap.UMAP(\n",
    "    n_neighbors=50,\n",
    "    min_dist=0.25,\n",
    "    random_state=42)\n",
    "scaler = make_pipeline(feature_transform, StandardScaler())"
   ]
  },
  {
   "cell_type": "code",
   "execution_count": 35,
   "metadata": {},
   "outputs": [],
   "source": [
    "Af_s = scaler.fit_transform(Af)"
   ]
  },
  {
   "cell_type": "code",
   "execution_count": 36,
   "metadata": {},
   "outputs": [
    {
     "data": {
      "text/plain": [
       "(2987, 2)"
      ]
     },
     "execution_count": 36,
     "metadata": {},
     "output_type": "execute_result"
    }
   ],
   "source": [
    "embedding = reducer.fit_transform(Af_s)\n",
    "embedding.shape"
   ]
  },
  {
   "cell_type": "code",
   "execution_count": 37,
   "metadata": {},
   "outputs": [
    {
     "data": {
      "text/plain": [
       "Text(0.5, 1.0, 'DS05-full - No resize - 50')"
      ]
     },
     "execution_count": 37,
     "metadata": {},
     "output_type": "execute_result"
    },
    {
     "data": {
      "image/png": "[encoded data removed]",
      "text/plain": [
       "<Figure size 432x288 with 1 Axes>"
      ]
     },
     "metadata": {
      "needs_background": "light"
     },
     "output_type": "display_data"
    }
   ],
   "source": [
    "fig, ax = plt.subplots()\n",
    "scatter = ax.scatter(\n",
    "    embedding[:, 0],\n",
    "    embedding[:, 1],\n",
    "    c=[color_mapper[a + 2*b_ds[i]] for i, a in enumerate(b)],\n",
    "    s=5)\n",
    "ax.set_title('DS05-full - {} - {}'.format('No resize', reducer.n_neighbors))"
   ]
  },
  {
   "cell_type": "code",
   "execution_count": 41,
   "metadata": {},
   "outputs": [
    {
     "data": {
      "image/png": "[encoded data removed]",
      "text/plain": [
       "<Figure size 1152x648 with 6 Axes>"
      ]
     },
     "metadata": {
      "needs_background": "light"
     },
     "output_type": "display_data"
    }
   ],
   "source": [
    "N = (5, 15, 25, 50, 70, 100)\n",
    "fig, axs = plt.subplots(nrows=2, ncols=3, figsize=(16,9))\n",
    "for a,n in enumerate(N):\n",
    "    reducer = umap.UMAP(n_neighbors=n,\n",
    "                        min_dist=0.25,\n",
    "                        random_state=42)\n",
    "    embedding = reducer.fit_transform(Af_s)\n",
    "    i = a // 3\n",
    "    j = a % 3\n",
    "    axs[i,j].scatter(\n",
    "        embedding[:, 0],\n",
    "        embedding[:, 1],\n",
    "        c=[color_mapper[a+ 2*b_ds[i]] for i, a in enumerate(b)],\n",
    "        s=5)\n",
    "    axs[i,j].set_title('DS05-full - {} - {}'.format('No resize', reducer.n_neighbors))\n",
    "    # axs[i,j].set_xticks([])\n",
    "    # axs[i,j].set_yticks([])\n",
    "plt.show()"
   ]
  }
 ],
 "metadata": {
  "interpreter": {
   "hash": "31f2aee4e71d21fbe5cf8b01ff0e069b9275f58929596ceb00d14d90e3e16cd6"
  },
  "kernelspec": {
   "display_name": "Python 3.8.10 64-bit",
   "language": "python",
   "name": "python3"
  },
  "language_info": {
   "codemirror_mode": {
    "name": "ipython",
    "version": 3
   },
   "file_extension": ".py",
   "mimetype": "text/x-python",
   "name": "python",
   "nbconvert_exporter": "python",
   "pygments_lexer": "ipython3",
   "version": "3.8.10"
  },
  "orig_nbformat": 4,
  "vscode": {
   "interpreter": {
    "hash": "dab3bab02eeeb8ef9970ce2cf5b25e7c362b9cee677e996977403e3e533c1ff8"
   }
  }
 },
 "nbformat": 4,
 "nbformat_minor": 2
}
