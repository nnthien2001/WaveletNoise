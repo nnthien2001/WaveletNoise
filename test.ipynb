{
 "cells": [
  {
   "cell_type": "code",
   "execution_count": 1,
   "metadata": {},
   "outputs": [],
   "source": [
    "import numpy as np\n",
    "\n",
    "from sklearn.preprocessing import (MinMaxScaler, StandardScaler)\n",
    "# from sklearn.model_selection import (train_test_split,)\n",
    "from sklearn.model_selection import (train_test_split, StratifiedKFold,)\n",
    "# from sklearn.ensemble import GradientBoostingClassifier\n",
    "from sklearn.svm import (SVC)\n",
    "\n",
    "from sklearn.base import (BaseEstimator, TransformerMixin)\n",
    "from sklearn.pipeline import (make_pipeline, make_union,)\n",
    "from sklearn.metrics import (classification_report, accuracy_score)\n",
    "\n",
    "import os\n",
    "from tqdm import tqdm"
   ]
  },
  {
   "cell_type": "code",
   "execution_count": 22,
   "metadata": {},
   "outputs": [
    {
     "data": {
      "text/plain": [
       "(5487, 59)"
      ]
     },
     "execution_count": 22,
     "metadata": {},
     "output_type": "execute_result"
    }
   ],
   "source": [
    "PATH_DUMP = \"./object dump/rose\"\n",
    "assert os.path.exists(PATH_DUMP)\n",
    "\n",
    "FILE = \"lbp_HSV\"\n",
    "train_set = np.load(os.path.join(PATH_DUMP, FILE+\".npy\"))\n",
    "train_label = np.load(os.path.join(PATH_DUMP, FILE+\"_label.npy\"))\n",
    "train_set.shape"
   ]
  },
  {
   "cell_type": "code",
   "execution_count": 23,
   "metadata": {},
   "outputs": [
    {
     "data": {
      "text/plain": [
       "(2345, 59)"
      ]
     },
     "execution_count": 23,
     "metadata": {},
     "output_type": "execute_result"
    }
   ],
   "source": [
    "PATH_DUMP = \"./object dump/no union\"\n",
    "assert os.path.exists(PATH_DUMP)\n",
    "\n",
    "FILE = \"lbp_HSV\"\n",
    "test_set = np.load(os.path.join(PATH_DUMP, FILE+\".npy\"))\n",
    "test_label = np.load(os.path.join(PATH_DUMP, FILE+\"_label.npy\"))\n",
    "test_set.shape"
   ]
  },
  {
   "cell_type": "code",
   "execution_count": 24,
   "metadata": {},
   "outputs": [],
   "source": [
    "pipe = make_pipeline(StandardScaler(), SVC())\n",
    "pipe = pipe.fit(train_set, train_label)"
   ]
  },
  {
   "cell_type": "code",
   "execution_count": 25,
   "metadata": {},
   "outputs": [
    {
     "name": "stdout",
     "output_type": "stream",
     "text": [
      "              precision    recall  f1-score   support\n",
      "\n",
      "           0       0.64      0.22      0.33      1440\n",
      "           1       0.39      0.80      0.53       905\n",
      "\n",
      "    accuracy                           0.45      2345\n",
      "   macro avg       0.52      0.51      0.43      2345\n",
      "weighted avg       0.54      0.45      0.41      2345\n",
      "\n"
     ]
    }
   ],
   "source": [
    "b_pred = pipe.predict(test_set)\n",
    "print(classification_report(test_label, b_pred))"
   ]
  },
  {
   "cell_type": "code",
   "execution_count": null,
   "metadata": {},
   "outputs": [],
   "source": []
  }
 ],
 "metadata": {
  "interpreter": {
   "hash": "916dbcbb3f70747c44a77c7bcd40155683ae19c65e1c03b4aa3499c5328201f1"
  },
  "kernelspec": {
   "display_name": "Python 3.8.10 64-bit",
   "language": "python",
   "name": "python3"
  },
  "language_info": {
   "codemirror_mode": {
    "name": "ipython",
    "version": 3
   },
   "file_extension": ".py",
   "mimetype": "text/x-python",
   "name": "python",
   "nbconvert_exporter": "python",
   "pygments_lexer": "ipython3",
   "version": "3.8.10"
  },
  "orig_nbformat": 4
 },
 "nbformat": 4,
 "nbformat_minor": 2
}
