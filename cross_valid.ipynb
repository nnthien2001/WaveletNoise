{
 "cells": [
  {
   "cell_type": "code",
   "execution_count": 32,
   "metadata": {},
   "outputs": [],
   "source": [
    "import numpy as np\n",
    "import matplotlib.pyplot as plt\n",
    "\n",
    "from sklearn.preprocessing import (MinMaxScaler, StandardScaler)\n",
    "from sklearn.model_selection import (train_test_split, StratifiedKFold, StratifiedShuffleSplit)\n",
    "# from sklearn.ensemble import GradientBoostingClassifier\n",
    "from sklearn.svm import (SVC)\n",
    "\n",
    "from sklearn.pipeline import (make_pipeline, make_union,)\n",
    "from sklearn.metrics import (classification_report, accuracy_score, confusion_matrix)\n",
    "\n",
    "import os\n",
    "from tqdm import tqdm"
   ]
  },
  {
   "cell_type": "code",
   "execution_count": 33,
   "metadata": {},
   "outputs": [],
   "source": [
    "import warnings\n",
    "warnings.filterwarnings(\"ignore\")"
   ]
  },
  {
   "cell_type": "code",
   "execution_count": 34,
   "metadata": {},
   "outputs": [],
   "source": [
    "class CLASS():\n",
    "    FAKE = 1\n",
    "    REAL = 0"
   ]
  },
  {
   "cell_type": "code",
   "execution_count": 35,
   "metadata": {},
   "outputs": [],
   "source": [
    "PATH_DUMP = \"./object dump/rose-youtu\"\n",
    "assert os.path.exists(PATH_DUMP), \"Path does not exist\""
   ]
  },
  {
   "cell_type": "code",
   "execution_count": 29,
   "metadata": {},
   "outputs": [],
   "source": [
    "FILE = 'wt_YCC_3lv_db11'\n",
    "\n",
    "A = np.load(os.path.join(PATH_DUMP, FILE+\".npy\"))\n",
    "b = np.load(os.path.join(PATH_DUMP, FILE+\"_label.npy\"))\n",
    "folder = np.load(os.path.join(PATH_DUMP, FILE+\"_folder.npy\"))\n",
    "att_type = np.load(os.path.join(PATH_DUMP, FILE+\"_att_type.npy\"))"
   ]
  },
  {
   "cell_type": "code",
   "execution_count": 36,
   "metadata": {},
   "outputs": [
    {
     "data": {
      "text/plain": [
       "(67500, 119)"
      ]
     },
     "execution_count": 36,
     "metadata": {},
     "output_type": "execute_result"
    }
   ],
   "source": [
    "FILE = \"wt_BGR_3lv_db5\"\n",
    "FILE2 = \"lbp_HSV\"\n",
    "assert np.all(np.load(os.path.join(PATH_DUMP, FILE+\"_label.npy\")) == np.load(os.path.join(PATH_DUMP, FILE2+\"_label.npy\"))), \"Different order\"\n",
    "\n",
    "A = np.concatenate((np.load(os.path.join(PATH_DUMP, FILE+\".npy\")),\n",
    "                    np.load(os.path.join(PATH_DUMP, FILE2+\".npy\"))),\n",
    "                   axis=1)\n",
    "b = np.load(os.path.join(PATH_DUMP, FILE+\"_label.npy\"))\n",
    "folder = np.load(os.path.join(PATH_DUMP, FILE+\"_folder.npy\"))\n",
    "att_type = np.load(os.path.join(PATH_DUMP, FILE+\"_att_type.npy\"))\n",
    "A.shape"
   ]
  },
  {
   "cell_type": "markdown",
   "metadata": {},
   "source": [
    "### KFold"
   ]
  },
  {
   "cell_type": "code",
   "execution_count": 37,
   "metadata": {},
   "outputs": [],
   "source": [
    "def kfold(_estimator):\n",
    "    # print(_estimator)\n",
    "    \n",
    "    kf = StratifiedKFold(n_splits=3, shuffle=True, random_state=42)\n",
    "    score = 0\n",
    "    for k, (i_train, i_test) in enumerate(kf.split(A, att_type)):\n",
    "        model = _estimator.fit(A[i_train,], b[i_train])\n",
    "\n",
    "        y_pred = model.predict(A[i_test,])\n",
    "        acc = accuracy_score(y_true=b[i_test], y_pred=y_pred)\n",
    "        score += acc\n",
    "\n",
    "        print(\"[Fold {}] Acc: {:.3f}\".format(k+1, acc))\n",
    "        # print(classification_report(y_true=b[i_test], y_pred=y_pred))\n",
    "\n",
    "    print(\"Mean acc: {:.3f}\\n\".format(score/kf.get_n_splits()))"
   ]
  },
  {
   "cell_type": "code",
   "execution_count": 38,
   "metadata": {},
   "outputs": [
    {
     "name": "stdout",
     "output_type": "stream",
     "text": [
      "[Fold 1] Acc: 0.990\n",
      "[Fold 2] Acc: 0.990\n",
      "[Fold 3] Acc: 0.990\n",
      "Mean acc: 0.990\n",
      "\n"
     ]
    }
   ],
   "source": [
    "pipe = make_pipeline(StandardScaler(), SVC())\n",
    "kfold(pipe)"
   ]
  },
  {
   "cell_type": "markdown",
   "metadata": {},
   "source": [
    "### Single domain testing"
   ]
  },
  {
   "cell_type": "code",
   "execution_count": 22,
   "metadata": {},
   "outputs": [],
   "source": [
    "A_train, A_test, b_train, b_test = train_test_split(A, att_type,\n",
    "                                                    train_size=0.8,\n",
    "                                                    random_state=42,\n",
    "                                                    stratify=att_type)"
   ]
  },
  {
   "cell_type": "code",
   "execution_count": 23,
   "metadata": {},
   "outputs": [],
   "source": [
    "pipe = make_pipeline(StandardScaler(), SVC())\n",
    "pipe = pipe.fit(A_train, b_train)"
   ]
  },
  {
   "cell_type": "code",
   "execution_count": 24,
   "metadata": {},
   "outputs": [
    {
     "name": "stdout",
     "output_type": "stream",
     "text": [
      "              precision    recall  f1-score   support\n",
      "\n",
      "           m       0.99      0.99      0.99      4100\n",
      "           p       0.99      0.99      0.99      3980\n",
      "           r       0.98      0.98      0.98      2500\n",
      "           v       0.99      0.99      0.99      2920\n",
      "\n",
      "    accuracy                           0.99     13500\n",
      "   macro avg       0.99      0.99      0.99     13500\n",
      "weighted avg       0.99      0.99      0.99     13500\n",
      "\n"
     ]
    }
   ],
   "source": [
    "b_pred = pipe.predict(A_test)\n",
    "print(classification_report(b_test, b_pred))"
   ]
  },
  {
   "cell_type": "code",
   "execution_count": null,
   "metadata": {},
   "outputs": [],
   "source": [
    "'''\n",
    "wt_YCC\n",
    "              precision    recall  f1-score   support\n",
    "\n",
    "           m       0.89      0.91      0.90      4100\n",
    "           p       0.89      0.94      0.92      3980\n",
    "           r       0.83      0.71      0.77      2500\n",
    "           v       0.85      0.85      0.85      2920\n",
    "\n",
    "    accuracy                           0.87     13500\n",
    "   macro avg       0.86      0.86      0.86     13500\n",
    "weighted avg       0.87      0.87      0.87     13500\n",
    "\n",
    "lbp_HSV\n",
    "              precision    recall  f1-score   support\n",
    "\n",
    "           m       0.99      0.99      0.99      4100\n",
    "           p       0.99      0.99      0.99      3980\n",
    "           r       0.98      0.98      0.98      2500\n",
    "           v       0.99      0.99      0.99      2920\n",
    "\n",
    "    accuracy                           0.99     13500\n",
    "   macro avg       0.99      0.99      0.99     13500\n",
    "weighted avg       0.99      0.99      0.99     13500\n",
    "\n",
    "'''"
   ]
  },
  {
   "cell_type": "code",
   "execution_count": 28,
   "metadata": {},
   "outputs": [
    {
     "name": "stdout",
     "output_type": "stream",
     "text": [
      "[[4070   13    8    9]\n",
      " [   7 3950   20    3]\n",
      " [  17   26 2448    9]\n",
      " [   1    1   15 2903]]\n"
     ]
    }
   ],
   "source": [
    "attack_type_list = ('r', 'm', 'p', 'v')\n",
    "print(confusion_matrix(b_test, b_pred))\n",
    "\n",
    "# for att in attack_type_list:\n",
    "    # cond = b_test == att\n",
    "    # print(att, np.count_nonzero(cond), np.unique(b_pred[cond], return_counts=True))"
   ]
  },
  {
   "cell_type": "code",
   "execution_count": null,
   "metadata": {},
   "outputs": [],
   "source": [
    "'''\n",
    "wt_YCC\n",
    "r 2500 (array(['m', 'p', 'r', 'v'], dtype='<U1'), array([ 277,  202, 1786,  235]))\n",
    "m 4100 (array(['m', 'p', 'r', 'v'], dtype='<U1'), array([3737,  111,  150,  102]))\n",
    "p 3980 (array(['m', 'p', 'r', 'v'], dtype='<U1'), array([  65, 3760,   51,  104]))\n",
    "v 2920 (array(['m', 'p', 'r', 'v'], dtype='<U1'), array([ 140,  130,  167, 2483]))\n",
    "\n",
    "lbp_HSV\n",
    "r 2500 (array(['m', 'p', 'r', 'v'], dtype='<U1'), array([  17,   26, 2448,    9]))\n",
    "m 4100 (array(['m', 'p', 'r', 'v'], dtype='<U1'), array([4070,   13,    8,    9]))\n",
    "p 3980 (array(['m', 'p', 'r', 'v'], dtype='<U1'), array([   7, 3950,   20,    3]))\n",
    "v 2920 (array(['m', 'p', 'r', 'v'], dtype='<U1'), array([   1,    1,   15, 2903]))\n",
    "\n",
    "'''"
   ]
  },
  {
   "cell_type": "code",
   "execution_count": 47,
   "metadata": {},
   "outputs": [],
   "source": [
    "splitter = StratifiedShuffleSplit(2, test_size=0.2, random_state=42)\n",
    "split_idx = splitter.split(A, att_type)"
   ]
  },
  {
   "cell_type": "code",
   "execution_count": 48,
   "metadata": {},
   "outputs": [],
   "source": [
    "i_train, i_test = next(split_idx)"
   ]
  },
  {
   "cell_type": "code",
   "execution_count": 49,
   "metadata": {},
   "outputs": [],
   "source": [
    "pipe = make_pipeline(StandardScaler(), SVC())\n",
    "pipe = pipe.fit(A[i_train], b[i_train])"
   ]
  },
  {
   "cell_type": "code",
   "execution_count": 50,
   "metadata": {},
   "outputs": [
    {
     "name": "stdout",
     "output_type": "stream",
     "text": [
      "              precision    recall  f1-score   support\n",
      "\n",
      "           0       0.97      0.96      0.96      2500\n",
      "           1       0.99      0.99      0.99     11000\n",
      "\n",
      "    accuracy                           0.99     13500\n",
      "   macro avg       0.98      0.98      0.98     13500\n",
      "weighted avg       0.99      0.99      0.99     13500\n",
      "\n"
     ]
    }
   ],
   "source": [
    "b_pred = pipe.predict(A[i_test])\n",
    "print(classification_report(b[i_test], b_pred))"
   ]
  },
  {
   "cell_type": "code",
   "execution_count": null,
   "metadata": {},
   "outputs": [],
   "source": [
    "# prediction = pipe.predict(A[i_test])\n",
    "# attack_type_list = ('r', 'm', 'p', 'v')\n",
    "# for att in attack_type_list:\n",
    "#     cond = att_type[i_test] == att\n",
    "#     A_test = (A[i_test])[cond]\n",
    "#     b_test = (b[i_test])[cond]\n",
    "#     b_pred = prediction[cond]\n",
    "#     print(att)\n",
    "#     print(classification_report(b_test, b_pred))"
   ]
  },
  {
   "cell_type": "markdown",
   "metadata": {},
   "source": [
    "### Plot histogram for lbp"
   ]
  },
  {
   "cell_type": "code",
   "execution_count": 7,
   "metadata": {},
   "outputs": [],
   "source": [
    "first_idx_per_type = {\n",
    "    'r': 2250,\n",
    "    'm': 0,\n",
    "    'p': 4750,\n",
    "    'v': 3500,\n",
    "}"
   ]
  },
  {
   "cell_type": "code",
   "execution_count": 12,
   "metadata": {},
   "outputs": [
    {
     "data": {
      "image/png": "[encoded data removed]",
      "text/plain": [
       "<Figure size 1440x648 with 4 Axes>"
      ]
     },
     "metadata": {
      "needs_background": "light"
     },
     "output_type": "display_data"
    }
   ],
   "source": [
    "fig, axs = plt.subplots(1, 4, figsize=(20,9))\n",
    "for i, att in enumerate(first_idx_per_type):\n",
    "    axs[i].bar(np.arange(59), height=A[first_idx_per_type[att]+1])\n",
    "    axs[i].set_title(att)"
   ]
  }
 ],
 "metadata": {
  "interpreter": {
   "hash": "916dbcbb3f70747c44a77c7bcd40155683ae19c65e1c03b4aa3499c5328201f1"
  },
  "kernelspec": {
   "display_name": "Python 3.8.10 64-bit",
   "language": "python",
   "name": "python3"
  },
  "language_info": {
   "codemirror_mode": {
    "name": "ipython",
    "version": 3
   },
   "file_extension": ".py",
   "mimetype": "text/x-python",
   "name": "python",
   "nbconvert_exporter": "python",
   "pygments_lexer": "ipython3",
   "version": "3.8.10"
  },
  "orig_nbformat": 4
 },
 "nbformat": 4,
 "nbformat_minor": 2
}
